{
 "cells": [
  {
   "cell_type": "markdown",
   "metadata": {},
   "source": [
    "代码说明：\n",
    "\n",
    "1、torch.nn.Conv2d(1,10,kernel_size=3,stride=2,bias=False)\n",
    "\n",
    "      1是指输入的Channel，灰色图像是1维的；10是指输出的Channel，也可以说第一个卷积层需要10个卷积核；kernel_size=3,卷积核大小是3x3；stride=2进行卷积运算时的步长，默认为1；bias=False卷积运算是否需要偏置bias，默认为False。padding = 0，卷积操作是否补0。\n",
    "\n",
    "2、self.fc = torch.nn.Linear(320, 10)，这个320获取的方式，可以通过x = x.view(batch_size, -1) # print(x.shape)可得到(64,320),64指的是batch，320就是指要进行全连接操作时，输入的特征维度。"
   ]
  },
  {
   "cell_type": "code",
   "execution_count": 58,
   "metadata": {},
   "outputs": [],
   "source": [
    "import torch\n",
    "from torchvision import transforms\n",
    "from torchvision import datasets\n",
    "from torch.utils.data import DataLoader\n",
    "import torch.nn.functional as F\n",
    "import torch.optim as optim\n",
    "import matplotlib.pyplot as plt"
   ]
  },
  {
   "cell_type": "code",
   "execution_count": 26,
   "metadata": {},
   "outputs": [],
   "source": [
    "# prepare dataset\n",
    "batch_size = 64\n",
    "# ((0.1307,), (0.3081,))为平均值，标准差\n",
    "transform = transforms.Compose([transforms.ToTensor(), transforms.Normalize((0.1307,), (0.3081,))])\n",
    " \n",
    "train_dataset = datasets.MNIST(root='../data/mnist/', train=True, download=True, transform=transform)\n",
    "train_loader = DataLoader(train_dataset, shuffle=True, batch_size=batch_size)\n",
    "test_dataset = datasets.MNIST(root='../data/mnist/', train=False, download=True, transform=transform)\n",
    "test_loader = DataLoader(test_dataset, shuffle=False, batch_size=batch_size)"
   ]
  },
  {
   "cell_type": "code",
   "execution_count": 28,
   "metadata": {},
   "outputs": [],
   "source": [
    "# design model using class\n",
    "class Net(torch.nn.Module):\n",
    "    def __init__(self):\n",
    "        super().__init__()\n",
    "        self.conv1 = torch.nn.Conv2d(1, 10, kernel_size=5) # 1:灰度图片的通道，10：输出通道，5：卷积核（kernel）\n",
    "        self.conv2 = torch.nn.Conv2d(10, 20, kernel_size=5)\n",
    "        self.pooling = torch.nn.MaxPool2d(2)\n",
    "        self.fc = torch.nn.Linear(320, 10)\n",
    " \n",
    " \n",
    "    def forward(self, x):\n",
    "        # flatten data from (n,1,28,28) to (n, 784)\n",
    "        \n",
    "        batch_size = x.size(0)\n",
    "        x = F.relu(self.pooling(self.conv1(x)))\n",
    "        x = F.relu(self.pooling(self.conv2(x)))\n",
    "        # print(x.size())\n",
    "        # x = x.view(batch_size, -1) # -1 此处自动算出的是320\n",
    "        x = torch.flatten(x, 1)\n",
    "        # print(\"x.shape\",x.shape)\n",
    "        x = self.fc(x)\n",
    " \n",
    "        return x"
   ]
  },
  {
   "cell_type": "code",
   "execution_count": 30,
   "metadata": {},
   "outputs": [
    {
     "name": "stdout",
     "output_type": "stream",
     "text": [
      "cuda\n"
     ]
    }
   ],
   "source": [
    "model = Net()\n",
    "device = torch.device(\"cuda:0\" if torch.cuda.is_available() else \"cpu\")\n",
    "if torch.cuda.is_available():\n",
    "    print(\"cuda\")\n",
    "model.to(device)\n",
    " \n",
    "# construct loss and optimizer\n",
    "criterion = torch.nn.CrossEntropyLoss()\n",
    "# optimizer = optim.SGD(model.parameters(), lr=0.01, momentum=0.5)\n",
    "optimizer = optim.Adam(model.parameters(), lr=0.0001)"
   ]
  },
  {
   "cell_type": "code",
   "execution_count": 31,
   "metadata": {},
   "outputs": [],
   "source": [
    "# training cycle forward, backward, update\n",
    "def train(epoch):\n",
    "    running_loss = 0.0\n",
    "    for batch_idx, data in enumerate(train_loader, 0):\n",
    "        inputs, target = data\n",
    "        inputs, target = inputs.to(device), target.to(device)\n",
    "        optimizer.zero_grad()\n",
    " \n",
    "        outputs = model(inputs)\n",
    "        loss = criterion(outputs, target)\n",
    "        loss.backward()\n",
    "        optimizer.step()\n",
    " \n",
    "        running_loss += loss.item()\n",
    "        if batch_idx % 300 == 299:\n",
    "            print('[%d, %5d] loss: %.3f' % (epoch+1, batch_idx+1, running_loss/300))\n",
    "            running_loss = 0.0\n",
    " \n",
    " \n",
    "def test():\n",
    "    correct = 0\n",
    "    total = 0\n",
    "    with torch.no_grad():\n",
    "        for data in test_loader:\n",
    "            images, labels = data\n",
    "            images, labels = images.to(device), labels.to(device)\n",
    "            outputs = model(images)\n",
    "            _, predicted = torch.max(outputs.data, dim=1)\n",
    "            total += labels.size(0)\n",
    "            correct += (predicted == labels).sum().item()\n",
    "    print('accuracy on test set: %d %% ' % (100*correct/total))\n",
    "    return correct/total"
   ]
  },
  {
   "cell_type": "code",
   "execution_count": 32,
   "metadata": {},
   "outputs": [
    {
     "name": "stdout",
     "output_type": "stream",
     "text": [
      "[1,   300] loss: 1.539\n",
      "[1,   600] loss: 0.483\n",
      "[1,   900] loss: 0.333\n",
      "accuracy on test set: 92 % \n",
      "[2,   300] loss: 0.260\n",
      "[2,   600] loss: 0.230\n",
      "[2,   900] loss: 0.216\n",
      "accuracy on test set: 95 % \n",
      "[3,   300] loss: 0.180\n",
      "[3,   600] loss: 0.160\n",
      "[3,   900] loss: 0.162\n",
      "accuracy on test set: 96 % \n",
      "[4,   300] loss: 0.138\n",
      "[4,   600] loss: 0.138\n",
      "[4,   900] loss: 0.125\n",
      "accuracy on test set: 96 % \n",
      "[5,   300] loss: 0.113\n",
      "[5,   600] loss: 0.116\n",
      "[5,   900] loss: 0.109\n",
      "accuracy on test set: 97 % \n",
      "[6,   300] loss: 0.106\n",
      "[6,   600] loss: 0.097\n",
      "[6,   900] loss: 0.095\n",
      "accuracy on test set: 97 % \n",
      "[7,   300] loss: 0.091\n",
      "[7,   600] loss: 0.089\n",
      "[7,   900] loss: 0.084\n",
      "accuracy on test set: 97 % \n",
      "[8,   300] loss: 0.086\n",
      "[8,   600] loss: 0.077\n",
      "[8,   900] loss: 0.078\n",
      "accuracy on test set: 97 % \n",
      "[9,   300] loss: 0.070\n",
      "[9,   600] loss: 0.079\n",
      "[9,   900] loss: 0.073\n",
      "accuracy on test set: 98 % \n",
      "[10,   300] loss: 0.068\n",
      "[10,   600] loss: 0.070\n",
      "[10,   900] loss: 0.070\n",
      "accuracy on test set: 98 % \n"
     ]
    },
    {
     "data": {
      "image/png": "[encoded data removed]",
      "text/plain": [
       "<Figure size 432x288 with 1 Axes>"
      ]
     },
     "metadata": {
      "needs_background": "light"
     },
     "output_type": "display_data"
    }
   ],
   "source": [
    "if __name__ == '__main__':\n",
    "    epoch_list = []\n",
    "    acc_list = []\n",
    "    \n",
    "    for epoch in range(10):\n",
    "        train(epoch)\n",
    "        acc = test()\n",
    "        epoch_list.append(epoch)\n",
    "        acc_list.append(acc)\n",
    "    \n",
    "    plt.plot(epoch_list,acc_list)\n",
    "    plt.ylabel('accuracy')\n",
    "    plt.xlabel('epoch')\n",
    "    plt.show()"
   ]
  },
  {
   "cell_type": "markdown",
   "metadata": {},
   "source": [
    "尝试复杂点：\n",
    "\n",
    "• Conv2d Layer *3\n",
    "\n",
    "• ReLU Layer * 3\n",
    "\n",
    "• MaxPooling Layer * 3\n",
    "\n",
    "• Linear Layer * 3"
   ]
  },
  {
   "cell_type": "code",
   "execution_count": 51,
   "metadata": {},
   "outputs": [],
   "source": [
    "import torch\n",
    "from torchvision import transforms\n",
    "from torchvision import datasets\n",
    "from torch.utils.data import DataLoader\n",
    "import torch.nn.functional as F\n",
    "import torch.optim as optim\n",
    "import matplotlib.pyplot as plt"
   ]
  },
  {
   "cell_type": "code",
   "execution_count": 52,
   "metadata": {},
   "outputs": [],
   "source": [
    "# prepare dataset\n",
    "batch_size = 64\n",
    "# ((0.1307,), (0.3081,))为平均值，标准差\n",
    "transform = transforms.Compose([transforms.ToTensor(), transforms.Normalize((0.1307,), (0.3081,))])\n",
    " \n",
    "train_dataset = datasets.MNIST(root='../data/mnist/', train=True, download=True, transform=transform)\n",
    "train_loader = DataLoader(train_dataset, shuffle=True, batch_size=batch_size)\n",
    "test_dataset = datasets.MNIST(root='../data/mnist/', train=False, download=True, transform=transform)\n",
    "test_loader = DataLoader(test_dataset, shuffle=False, batch_size=batch_size)"
   ]
  },
  {
   "cell_type": "code",
   "execution_count": 53,
   "metadata": {},
   "outputs": [],
   "source": [
    "# design model using class\n",
    "class Net(torch.nn.Module):\n",
    "    def __init__(self):\n",
    "        super().__init__()\n",
    "        self.conv1 = torch.nn.Conv2d(1, 10, 5) # 1:灰度图片的通道，10：输出通道，5：卷积核（kernel）\n",
    "        self.conv2 = torch.nn.Conv2d(10, 20, 5)\n",
    "        self.conv3 = torch.nn.Conv2d(20, 20, 5, padding=2)\n",
    "        self.pooling = torch.nn.MaxPool2d(2)\n",
    "        self.fc1 = torch.nn.Linear(80, 10)\n",
    "        # self.fc2 = torch.nn.Linear(20, 10)\n",
    "        # self.fc3 = torch.nn.Linear(80, 10)\n",
    " \n",
    " \n",
    "    def forward(self, x):\n",
    "        # flatten data from (n,1,28,28) to (n, 784)\n",
    "        \n",
    "        batch_size = x.size(0)\n",
    "        x = F.relu(self.pooling(self.conv1(x)))\n",
    "        x = F.relu(self.pooling(self.conv2(x)))\n",
    "        x = F.relu(self.pooling(self.conv3(x)))\n",
    "        \n",
    "        # print(x.size())\n",
    "        \n",
    "        # x = x.view(batch_size, -1)\n",
    "        x = torch.flatten(x, 1)\n",
    "\n",
    "        # print(x.shape)\n",
    "        \n",
    "        x = self.fc1(x)\n",
    "        # x = self.fc2(x)\n",
    "        # x = self.fc3(x)\n",
    " \n",
    "        return x"
   ]
  },
  {
   "cell_type": "code",
   "execution_count": 54,
   "metadata": {},
   "outputs": [
    {
     "name": "stdout",
     "output_type": "stream",
     "text": [
      "cuda\n"
     ]
    }
   ],
   "source": [
    "model = Net()\n",
    "device = torch.device(\"cuda:0\" if torch.cuda.is_available() else \"cpu\")\n",
    "if torch.cuda.is_available():\n",
    "    print(\"cuda\")\n",
    "model.to(device)\n",
    " \n",
    "# construct loss and optimizer\n",
    "criterion = torch.nn.CrossEntropyLoss()\n",
    "# optimizer = optim.SGD(model.parameters(), lr=0.01, momentum=0.5)\n",
    "optimizer = optim.Adam(model.parameters(), lr=0.0001)"
   ]
  },
  {
   "cell_type": "code",
   "execution_count": 55,
   "metadata": {},
   "outputs": [],
   "source": [
    "# training cycle forward, backward, update\n",
    "def train(epoch):\n",
    "    running_loss = 0.0\n",
    "    for batch_idx, data in enumerate(train_loader, 0):\n",
    "        inputs, target = data\n",
    "        inputs, target = inputs.to(device), target.to(device)\n",
    "        optimizer.zero_grad()\n",
    " \n",
    "        outputs = model(inputs)\n",
    "        loss = criterion(outputs, target)\n",
    "        loss.backward()\n",
    "        optimizer.step()\n",
    " \n",
    "        running_loss += loss.item()\n",
    "        if batch_idx % 300 == 299:\n",
    "            print('[%d, %5d] loss: %.3f' % (epoch+1, batch_idx+1, running_loss/300))\n",
    "            running_loss = 0.0\n",
    " \n",
    " \n",
    "def test():\n",
    "    correct = 0\n",
    "    total = 0\n",
    "    with torch.no_grad():\n",
    "        for data in test_loader:\n",
    "            images, labels = data\n",
    "            images, labels = images.to(device), labels.to(device)\n",
    "            outputs = model(images)\n",
    "            _, predicted = torch.max(outputs.data, dim=1)\n",
    "            total += labels.size(0)\n",
    "            correct += (predicted == labels).sum().item()\n",
    "    print('accuracy on test set: %d %% ' % (100*correct/total))\n",
    "    return correct/total"
   ]
  },
  {
   "cell_type": "code",
   "execution_count": 56,
   "metadata": {},
   "outputs": [
    {
     "name": "stdout",
     "output_type": "stream",
     "text": [
      "[1,   300] loss: 1.549\n",
      "[1,   600] loss: 0.428\n",
      "[1,   900] loss: 0.294\n",
      "accuracy on test set: 92 % \n",
      "[2,   300] loss: 0.242\n",
      "[2,   600] loss: 0.200\n",
      "[2,   900] loss: 0.188\n",
      "accuracy on test set: 95 % \n",
      "[3,   300] loss: 0.165\n",
      "[3,   600] loss: 0.148\n",
      "[3,   900] loss: 0.143\n",
      "accuracy on test set: 95 % \n",
      "[4,   300] loss: 0.123\n",
      "[4,   600] loss: 0.122\n",
      "[4,   900] loss: 0.122\n",
      "accuracy on test set: 96 % \n",
      "[5,   300] loss: 0.107\n",
      "[5,   600] loss: 0.104\n",
      "[5,   900] loss: 0.102\n",
      "accuracy on test set: 97 % \n",
      "[6,   300] loss: 0.091\n",
      "[6,   600] loss: 0.095\n",
      "[6,   900] loss: 0.089\n",
      "accuracy on test set: 97 % \n",
      "[7,   300] loss: 0.084\n",
      "[7,   600] loss: 0.081\n",
      "[7,   900] loss: 0.080\n",
      "accuracy on test set: 97 % \n",
      "[8,   300] loss: 0.075\n",
      "[8,   600] loss: 0.076\n",
      "[8,   900] loss: 0.073\n",
      "accuracy on test set: 98 % \n",
      "[9,   300] loss: 0.071\n",
      "[9,   600] loss: 0.070\n",
      "[9,   900] loss: 0.064\n",
      "accuracy on test set: 98 % \n",
      "[10,   300] loss: 0.069\n",
      "[10,   600] loss: 0.062\n",
      "[10,   900] loss: 0.063\n",
      "accuracy on test set: 98 % \n"
     ]
    },
    {
     "data": {
      "image/png": "[encoded data removed]",
      "text/plain": [
       "<Figure size 432x288 with 1 Axes>"
      ]
     },
     "metadata": {
      "needs_background": "light"
     },
     "output_type": "display_data"
    }
   ],
   "source": [
    "if __name__ == '__main__':\n",
    "    epoch_list = []\n",
    "    acc_list = []\n",
    "    \n",
    "    for epoch in range(10):\n",
    "        train(epoch)\n",
    "        acc = test()\n",
    "        epoch_list.append(epoch)\n",
    "        acc_list.append(acc)\n",
    "    \n",
    "    plt.plot(epoch_list,acc_list)\n",
    "    plt.ylabel('accuracy')\n",
    "    plt.xlabel('epoch')\n",
    "    plt.show()"
   ]
  }
 ],
 "metadata": {
  "kernelspec": {
   "display_name": "Python 3.8.13 ('torch1')",
   "language": "python",
   "name": "python3"
  },
  "language_info": {
   "codemirror_mode": {
    "name": "ipython",
    "version": 3
   },
   "file_extension": ".py",
   "mimetype": "text/x-python",
   "name": "python",
   "nbconvert_exporter": "python",
   "pygments_lexer": "ipython3",
   "version": "3.8.13"
  },
  "orig_nbformat": 4,
  "vscode": {
   "interpreter": {
    "hash": "85cc66b353803c0eed146f107dc77f4e93ec3f5302e72bc56957a29ff3463971"
   }
  }
 },
 "nbformat": 4,
 "nbformat_minor": 2
}
