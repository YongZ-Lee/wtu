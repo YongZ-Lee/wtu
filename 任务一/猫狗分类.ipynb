{
 "cells": [
  {
   "cell_type": "markdown",
   "metadata": {},
   "source": [
    "猫狗分类"
   ]
  },
  {
   "cell_type": "markdown",
   "metadata": {},
   "source": [
    "先进行数据的预处理"
   ]
  },
  {
   "cell_type": "code",
   "execution_count": null,
   "metadata": {},
   "outputs": [],
   "source": [
    "import os, shutil\n",
    "\n",
    "original_dataset_dir = './dataset/kaggle/train' #原数据位置\n",
    "\n",
    "base_dir = './dogs_and_cats_small' #选取的数据的新位置\n",
    "os.mkdir(base_dir) #创建新位置文件夹\n",
    "\n",
    "#在新文件夹中依次新增‘train’，‘validation’，‘test’文件夹\n",
    "train_dir = os.path.join(base_dir, 'train') \n",
    "os.mkdir(train_dir)\n",
    "validation_dir = os.path.join(base_dir, 'validation')\n",
    "os.mkdir(validation_dir)\n",
    "test_dir = os.path.join(base_dir, 'test')\n",
    "os.mkdir(test_dir)\n",
    "\n",
    "#在‘train’文件夹中新增‘dogs’，‘cats’文件夹\n",
    "train_cats_dir = os.path.join(train_dir, 'cats')\n",
    "os.mkdir(train_cats_dir)\n",
    "train_dogs_dir = os.path.join(train_dir, 'dogs')\n",
    "os.mkdir(train_dogs_dir)\n",
    "\n",
    "#在‘validation’文件夹中新增‘dogs’，‘cats’文件夹\n",
    "validation_cats_dir = os.path.join(validation_dir, 'cats')\n",
    "os.mkdir(validation_cats_dir)\n",
    "validation_dogs_dir = os.path.join(validation_dir, 'dogs')\n",
    "os.mkdir(validation_dogs_dir)\n",
    "\n",
    "#在‘test’文件夹新增‘dogs’，‘cats’文件夹\n",
    "test_cats_dir = os.path.join(test_dir, 'cats')\n",
    "os.mkdir(test_cats_dir)\n",
    "test_dogs_dir = os.path.join(test_dir, 'dogs')\n",
    "os.mkdir(test_dogs_dir)\n",
    "\n",
    "#将原数据中前1000张猫的图片复制到train_cats_dir\n",
    "fnames = ['cat.{}.jpg'.format(i) for i in range(1000)]\n",
    "for fname in fnames:\n",
    "    src = os.path.join(original_dataset_dir, fname) #原位置\n",
    "    dst = os.path.join(train_cats_dir, fname) #目标位置\n",
    "    shutil.copyfile(src, dst) #复制文件\n",
    "\n",
    "#将原数据中1000-1500张猫的图片复制到validation_cats_dir\n",
    "fnames = ['cat.{}.jpg'.format(i) for i in range(1000, 1500)]\n",
    "for fname in fnames:\n",
    "    src = os.path.join(original_dataset_dir, fname)\n",
    "    dst = os.path.join(validation_cats_dir, fname)\n",
    "    shutil.copyfile(src, dst)\n",
    "\n",
    "#将原数据中1500-2000张猫的图片复制到test_cats_dir\n",
    "fnames = ['cat.{}.jpg'.format(i) for i in range(1500, 2000)]\n",
    "for fname in fnames:\n",
    "    src = os.path.join(original_dataset_dir, fname)\n",
    "    dst = os.path.join(test_cats_dir, fname)\n",
    "    shutil.copyfile(src, dst)\n",
    "\n",
    "#将原数据中前1000张狗的图片复制到train_dogs_dir\n",
    "fnames = ['dog.{}.jpg'.format(i) for i in range(1000)]\n",
    "for fname in fnames:\n",
    "    src = os.path.join(original_dataset_dir, fname)\n",
    "    dst = os.path.join(train_dogs_dir, fname)\n",
    "    shutil.copyfile(src, dst)\n",
    "\n",
    "#将原数据中1000-1500张狗的图片复制到validation_dogs_dir\n",
    "fnames = ['dog.{}.jpg'.format(i) for i in range(1000,1500)]\n",
    "for fname in fnames:\n",
    "    src = os.path.join(original_dataset_dir, fname)\n",
    "    dst = os.path.join(validation_dogs_dir, fname)\n",
    "    shutil.copyfile(src, dst)\n",
    "\n",
    "#将原数据中1500-2000张狗的图片复制到test_dogs_dir\n",
    "fnames = ['dog.{}.jpg'.format(i) for i in range(1500,2000)]\n",
    "for fname in fnames:\n",
    "    src = os.path.join(original_dataset_dir, fname)\n",
    "    dst = os.path.join(test_dogs_dir, fname)\n",
    "    shutil.copyfile(src, dst)"
   ]
  },
  {
   "cell_type": "markdown",
   "metadata": {},
   "source": [
    "进行代码编写：\n",
    "\n",
    "一个使用pytorch自带的resnet网络\n",
    "\n",
    "一个自己的vgg网络"
   ]
  },
  {
   "cell_type": "code",
   "execution_count": 87,
   "metadata": {},
   "outputs": [],
   "source": [
    "import torch \n",
    "import torchvision\n",
    "from torchvision import datasets,models,transforms\n",
    "import os\n",
    "from torch.autograd import Variable\n",
    "import torch.nn as nn\n",
    "import torch.utils.data\n",
    "import torch.nn.functional as F\n",
    "#from network import Net"
   ]
  },
  {
   "cell_type": "code",
   "execution_count": 88,
   "metadata": {},
   "outputs": [],
   "source": [
    "class Net(nn.Module):                                       # 新建一个网络类，就是需要搭建的网络，必须继承PyTorch的nn.Module父类\n",
    "    def __init__(self):                                     # 构造函数，用于设定网络层\n",
    "        super(Net, self).__init__()                         # 标准语句\n",
    "        self.conv1 = torch.nn.Conv2d(3, 16, 3, padding=1)   # 第一个卷积层，输入通道数3，输出通道数16，卷积核大小3×3，padding大小1，其他参数默认\n",
    "        self.conv2 = torch.nn.Conv2d(16, 32, 3, padding=1)  \n",
    "        self.conv3 = torch.nn.Conv2d(32, 64, 3, padding=1) \n",
    "\n",
    "        self.fc1 = nn.Linear(56*56*16, 128)                 # 第一个全连层，线性连接，输入节点数50×50×16，输出节点数128\n",
    "        self.fc2 = nn.Linear(128, 2)                       \n",
    "\n",
    "        self.max_pool = nn.MaxPool2d(2)                     \n",
    "\n",
    "    def forward(self, x):                                    # 重写父类forward方法，即前向计算，通过该方法获取网络输入数据后的输出值\n",
    "        x = self.max_pool(F.relu(self.conv1(x)))                            \n",
    "        x = self.max_pool(F.relu(self.conv2(x)))   \n",
    "        x = self.max_pool(F.relu(self.conv3(x)))                          \n",
    "\n",
    "        x = x.view(x.size()[0], -1)   \n",
    "                               \n",
    "        x = F.relu(self.fc1(x))                                                          \n",
    "        y = self.fc2(x)                                      \n",
    "\n",
    "        return y"
   ]
  },
  {
   "cell_type": "code",
   "execution_count": 89,
   "metadata": {},
   "outputs": [],
   "source": [
    "data_dir = \"./dogs_and_cats_small/\"\n",
    "#图片处理\n",
    "data_trainsforms = {\n",
    "    \"train\":transforms.Compose([\n",
    "    transforms.Resize((224,224)),\n",
    "    transforms.ToTensor(),\n",
    "    transforms.Normalize([0.485, 0.456, 0.406], [0.229, 0.224, 0.225]),\n",
    "    ]),\n",
    "    \n",
    "    \"test\":transforms.Compose([\n",
    "    transforms.Resize((224,224)),\n",
    "    transforms.ToTensor(),\n",
    "    transforms.Normalize([0.485, 0.456, 0.406], [0.229, 0.224, 0.225]),\n",
    "   ]),}\n",
    "\n",
    "#拼接路径\n",
    "image_datasets = {\n",
    "    x:datasets.ImageFolder(root=os.path.join(data_dir, x),\n",
    "                          transform=data_trainsforms[x])\n",
    "            for x in [\"train\", \"test\"]\n",
    "}"
   ]
  },
  {
   "cell_type": "code",
   "execution_count": 90,
   "metadata": {},
   "outputs": [],
   "source": [
    "#数据加载器\n",
    "data_loader = {x: torch.utils.data.DataLoader(image_datasets[x], batch_size=20, shuffle=True) for x in [\"train\", \"test\"] }\n",
    "\n",
    "X_example,y_example = next(iter(data_loader[\"train\"]))\n",
    "example_classees = image_datasets[\"train\"].classes\n",
    "index_classes = image_datasets[\"train\"].class_to_idx\n",
    "\n",
    "#迁移学习模型\n",
    "# model = models.resnet50(pretrained = True)\n",
    "#自定义模型\n",
    "model = Net()\n",
    "\n",
    "Use_gpu = torch.cuda.is_available()\n",
    "\n",
    "# for parma in model.parameters():\n",
    "#     parma.requires_grad = False#屏蔽预训练模型的权重，只训练最后一层的全连接的权重\n",
    "# model.fc = torch.nn.Linear(2048,2)\n",
    "# print(model)\n",
    "\n",
    "if Use_gpu:\n",
    "    model = model.cuda()"
   ]
  },
  {
   "cell_type": "code",
   "execution_count": 69,
   "metadata": {},
   "outputs": [
    {
     "name": "stdout",
     "output_type": "stream",
     "text": [
      "Net(\n",
      "  (conv1): Conv2d(3, 16, kernel_size=(3, 3), stride=(1, 1), padding=(1, 1))\n",
      "  (conv2): Conv2d(16, 32, kernel_size=(3, 3), stride=(1, 1), padding=(1, 1))\n",
      "  (conv3): Conv2d(32, 64, kernel_size=(3, 3), stride=(1, 1), padding=(1, 1))\n",
      "  (fc1): Linear(in_features=50176, out_features=128, bias=True)\n",
      "  (fc2): Linear(in_features=128, out_features=2, bias=True)\n",
      "  (max_pool): MaxPool2d(kernel_size=2, stride=2, padding=0, dilation=1, ceil_mode=False)\n",
      ")\n"
     ]
    }
   ],
   "source": [
    "print(model)"
   ]
  },
  {
   "cell_type": "code",
   "execution_count": 91,
   "metadata": {},
   "outputs": [],
   "source": [
    "#损失函数和优化器\n",
    "loss_f = torch.nn.CrossEntropyLoss()\n",
    "# optimizer = torch.optim.Adam(model.fc.parameters(),lr = 0.00001)\n",
    "optimizer = torch.optim.Adam(model.parameters(),lr = 0.00001)"
   ]
  },
  {
   "cell_type": "code",
   "execution_count": 92,
   "metadata": {},
   "outputs": [
    {
     "name": "stdout",
     "output_type": "stream",
     "text": [
      "Epoch 0/9\n",
      "----------\n",
      "training\n",
      "train Loss:0.6479 Acc:64.9000%\n",
      "testing\n",
      "test Loss:0.5972 Acc:81.3000%\n",
      "Epoch 1/9\n",
      "----------\n",
      "training\n",
      "train Loss:0.5744 Acc:83.1500%\n",
      "testing\n",
      "test Loss:0.5402 Acc:89.5000%\n",
      "Epoch 2/9\n",
      "----------\n",
      "training\n",
      "train Loss:0.5235 Acc:89.4500%\n",
      "testing\n",
      "test Loss:0.4898 Acc:92.1000%\n",
      "Epoch 3/9\n",
      "----------\n",
      "training\n",
      "train Loss:0.4776 Acc:91.5000%\n",
      "testing\n",
      "test Loss:0.4472 Acc:93.9000%\n",
      "Epoch 4/9\n",
      "----------\n",
      "training\n",
      "train Loss:0.4379 Acc:93.3500%\n",
      "testing\n",
      "test Loss:0.4058 Acc:95.3000%\n",
      "Epoch 5/9\n",
      "----------\n",
      "training\n",
      "train Loss:0.4061 Acc:94.1000%\n",
      "testing\n",
      "test Loss:0.3767 Acc:95.9000%\n",
      "Epoch 6/9\n",
      "----------\n",
      "training\n",
      "train Loss:0.3811 Acc:93.8000%\n",
      "testing\n",
      "test Loss:0.3510 Acc:95.7000%\n",
      "Epoch 7/9\n",
      "----------\n",
      "training\n",
      "train Loss:0.3559 Acc:94.6000%\n",
      "testing\n",
      "test Loss:0.3245 Acc:96.9000%\n",
      "Epoch 8/9\n",
      "----------\n",
      "training\n",
      "train Loss:0.3311 Acc:95.5000%\n",
      "testing\n",
      "test Loss:0.3032 Acc:96.9000%\n",
      "Epoch 9/9\n",
      "----------\n",
      "training\n",
      "train Loss:0.3177 Acc:94.8000%\n",
      "testing\n",
      "test Loss:0.2858 Acc:97.0000%\n",
      "over\n"
     ]
    }
   ],
   "source": [
    "epoch_n = 10\n",
    "\n",
    "t_loss = {'train': [] , 'test': []}\n",
    "acc = {'train': [], 'test': []}\n",
    "\n",
    "for epoch in range(epoch_n):\n",
    "    print(\"Epoch {}/{}\".format(epoch,epoch_n - 1))\n",
    "    print(\"-\"*10)\n",
    "    \n",
    "    for phase in [\"train\",\"test\"]:\n",
    "        if phase == \"train\":\n",
    "            print(\"training\")\n",
    "            # model.train(True)\n",
    "        else:\n",
    "            print(\"testing\")\n",
    "            # model.train(False)\n",
    "        running_loss = 0.0\n",
    "        running_corrects = 0\n",
    "\n",
    "        for batch,data in enumerate(data_loader[phase],1):\n",
    "            X,y = data\n",
    "            if Use_gpu:\n",
    "                X,y = Variable(X.cuda()),Variable(y.cuda())\n",
    "            else:\n",
    "                X,y = Variable(X),Variable(y)\n",
    "            \n",
    "            y_pred = model(X)\n",
    "\n",
    "            _,pred = torch.max(y_pred.data,1)\n",
    "            optimizer.zero_grad()\n",
    "            loss = loss_f(y_pred,y)\n",
    "            if phase == \"train\":\n",
    "                loss.backward()#反向传播计算当前梯度# 误差反向传播，采用求导的方式，计算网络中每个节点参数的梯度，显然梯度越大说明参数设置不合理，需要调整\n",
    "                optimizer.step()#优化采用设定的优化方法对网络中的各个参数进行调整\n",
    "            running_loss += loss.item()\n",
    "            running_corrects += torch.sum(pred == y.data)\n",
    "            # if batch%250 == 0 and phase == \"train\":\n",
    "            #     loss = running_loss/batch\n",
    "            #     acc = 100*running_corrects/(20*batch)\n",
    "            #     print(\"Batch{},Train Loss:{:.4f},Train ACC:{:.4f}\".format(batch, loss, acc))\n",
    "        epoch_loss = running_loss*20/len(image_datasets[phase]) \n",
    "        epoch_acc = 100*running_corrects/len(image_datasets[phase])\n",
    "        print(\"{} Loss:{:.4f} Acc:{:.4f}%\".format(phase,epoch_loss,epoch_acc))\n",
    "        t_loss[phase].append(epoch_loss)\n",
    "        acc[phase].append(epoch_acc.item())\n",
    "        \n",
    "#torch.save(model.state_dict(),'model.ckpt1')\n",
    "# torch.save(model.state_dict(),'model.pth'\n",
    "print(\"over\")\n"
   ]
  },
  {
   "cell_type": "code",
   "execution_count": 93,
   "metadata": {},
   "outputs": [
    {
     "data": {
      "image/png": "[encoded data removed]",
      "text/plain": [
       "<Figure size 432x288 with 1 Axes>"
      ]
     },
     "metadata": {},
     "output_type": "display_data"
    }
   ],
   "source": [
    "import matplotlib.pyplot as plt\n",
    "import seaborn as sns\n",
    "\n",
    "# 对测试Loss进行可视化\n",
    "def sinplot(flip=1):\n",
    "    plt.plot(t_loss['train'], label='Train Loss')\n",
    "    plt.plot(t_loss['test'], label='Test Loss')\n",
    "    plt.legend(loc='best')\n",
    "    plt.xlabel('Epoch')\n",
    "    plt.ylabel('Loss')\n",
    "    plt.title('Train and Test LOSS')\n",
    "\n",
    "sns.set_theme()\n",
    "sinplot()"
   ]
  },
  {
   "cell_type": "code",
   "execution_count": 94,
   "metadata": {},
   "outputs": [
    {
     "data": {
      "image/png": "[encoded data removed]",
      "text/plain": [
       "<Figure size 432x288 with 1 Axes>"
      ]
     },
     "metadata": {},
     "output_type": "display_data"
    }
   ],
   "source": [
    "# 对测试准确率进行可视化\n",
    "def sinplot(flip=1):\n",
    "    plt.plot(acc['train'], label='Train Acc')\n",
    "    plt.plot(acc['test'], label='Test Acc')\n",
    "    plt.legend(loc='lower right')\n",
    "    plt.xlabel('Epoch')\n",
    "    plt.ylabel('Accuracy')\n",
    "    plt.title('Train and Test ACC')\n",
    "\n",
    "sns.set_theme()\n",
    "sinplot()"
   ]
  }
 ],
 "metadata": {
  "kernelspec": {
   "display_name": "Python 3.8.13 ('torch1')",
   "language": "python",
   "name": "python3"
  },
  "language_info": {
   "codemirror_mode": {
    "name": "ipython",
    "version": 3
   },
   "file_extension": ".py",
   "mimetype": "text/x-python",
   "name": "python",
   "nbconvert_exporter": "python",
   "pygments_lexer": "ipython3",
   "version": "3.8.13"
  },
  "orig_nbformat": 4,
  "vscode": {
   "interpreter": {
    "hash": "85cc66b353803c0eed146f107dc77f4e93ec3f5302e72bc56957a29ff3463971"
   }
  }
 },
 "nbformat": 4,
 "nbformat_minor": 2
}
